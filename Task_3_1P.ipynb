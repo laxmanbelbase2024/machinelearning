{
  "nbformat": 4,
  "nbformat_minor": 0,
  "metadata": {
    "colab": {
      "provenance": [],
      "authorship_tag": "ABX9TyOwKLmo9oYqIO70hc+xl6hH",
      "include_colab_link": true
    },
    "kernelspec": {
      "name": "python3",
      "display_name": "Python 3"
    },
    "language_info": {
      "name": "python"
    }
  },
  "cells": [
    {
      "cell_type": "markdown",
      "metadata": {
        "id": "view-in-github",
        "colab_type": "text"
      },
      "source": [
        "<a href=\"https://colab.research.google.com/github/laxmanbelbase2024/machinelearning/blob/main/Task_3_1P.ipynb\" target=\"_parent\"><img src=\"https://colab.research.google.com/assets/colab-badge.svg\" alt=\"Open In Colab\"/></a>"
      ]
    },
    {
      "cell_type": "markdown",
      "source": [
        "# **SIT719 Security and Privacy Issues in Analytics**\n",
        "\n",
        "# Pass Task 3.1: Collection of scikit-learn commands for machine learning"
      ],
      "metadata": {
        "id": "YcfP8wUvshx4"
      }
    },
    {
      "cell_type": "markdown",
      "source": [
        "**Importing and Loading data for preprocessing**"
      ],
      "metadata": {
        "id": "qSmQMrs0983N"
      }
    },
    {
      "cell_type": "code",
      "execution_count": 36,
      "metadata": {
        "id": "U2blFs76tG8b"
      },
      "outputs": [],
      "source": [
        "import pandas as pd\n",
        "#This command will import the Pandas library and assign it as pd.\n",
        "\n",
        "from sklearn.metrics import confusion_matrix\n",
        "#This command will import 'confusion_matrix' function from the 'sklearn.metrics' module which is an useful tool for evaluating the performance of a classification model.\n",
        "\n",
        "dfp = pd.read_csv('payment_fraud.csv')\n",
        "#This command reads the CSV file named 'payment_fraud.csv' that we uploaded in this notebook into Pandas DataFrame named 'dfp'.\n",
        "#We downloaded the csv file from Dekincloud weekly datasets and codes for week 3 and uploaded in nootbook using files feature.\n",
        "#The dataset consist of 39,221 Rows and 6 columns.\n"
      ]
    },
    {
      "cell_type": "code",
      "source": [
        "df = pd.get_dummies(dfp, columns=['paymentMethod'])\n",
        "#We have a column 'paymentMethod' with non-numerical type also called categorical variable. Now, This command converts categorical varibales to numeric in column 'paymentMethod' and assigns it to DataFrame named 'df'.\n",
        "#In the output, we can see a new DataFrame 'df' is created which has 8 columns with the value of 'paymentMethod' column converted into 3 numeric columns 'paymentMethod_creditcard', 'paymentMethod_paypal'\tand 'paymentMethod_storecredit'"
      ],
      "metadata": {
        "id": "H48j9dCrwfvV"
      },
      "execution_count": 37,
      "outputs": []
    },
    {
      "cell_type": "markdown",
      "source": [
        "**Splitting the Dataset**"
      ],
      "metadata": {
        "id": "l_NH7mDx-qv-"
      }
    },
    {
      "cell_type": "code",
      "source": [
        "from sklearn.model_selection import train_test_split\n",
        "#This command imports the train_test_split function from sklearn.model_selection which is used to split a dataset into two subsets: Training and Testing.\n",
        "\n",
        "X_train, X_test, y_train, y_test = train_test_split(df.drop('label', axis=1), df['label'], test_size=0.5, random_state=17)\n",
        "\n",
        "#The train_test_split command splits the 'df' dataset into training and testing sets.\n",
        "#The features are represented by 'X' and the target variable is denoted by 'y'. We used 'test_size=0.33' to specify half of the data for training and remaninghalf for testing to check the performance for the algorithm."
      ],
      "metadata": {
        "id": "GXhnTCTVzEW9"
      },
      "execution_count": 38,
      "outputs": []
    },
    {
      "cell_type": "markdown",
      "source": [
        "**Importing and Training the Logistic Regression Model**"
      ],
      "metadata": {
        "id": "Dwl4fMgz2uaB"
      }
    },
    {
      "cell_type": "code",
      "source": [
        "from sklearn.linear_model import LogisticRegression\n",
        "#This command is used to import 'LogisticRegression' function from 'sklearn.linear_model\". It is used to predict the probability of a binary outcome based on one or more variables.\n",
        "\n",
        "clf = LogisticRegression()\n",
        "#This code initialize Logistic Recression classifier named 'clf'.\n",
        "\n",
        "clf.fit(X_train, y_train)\n",
        "#Here'X_train' and 'Y_train\" are fed into 'clf.fit()' function which trains the classifier and stores in 'clf' object."
      ],
      "metadata": {
        "colab": {
          "base_uri": "https://localhost:8080/",
          "height": 75
        },
        "id": "5Hz_Bm-82iCz",
        "outputId": "f53f6f6a-e52b-4905-db39-71fef17e79aa"
      },
      "execution_count": 39,
      "outputs": [
        {
          "output_type": "execute_result",
          "data": {
            "text/plain": [
              "LogisticRegression()"
            ],
            "text/html": [
              "<style>#sk-container-id-5 {color: black;background-color: white;}#sk-container-id-5 pre{padding: 0;}#sk-container-id-5 div.sk-toggleable {background-color: white;}#sk-container-id-5 label.sk-toggleable__label {cursor: pointer;display: block;width: 100%;margin-bottom: 0;padding: 0.3em;box-sizing: border-box;text-align: center;}#sk-container-id-5 label.sk-toggleable__label-arrow:before {content: \"▸\";float: left;margin-right: 0.25em;color: #696969;}#sk-container-id-5 label.sk-toggleable__label-arrow:hover:before {color: black;}#sk-container-id-5 div.sk-estimator:hover label.sk-toggleable__label-arrow:before {color: black;}#sk-container-id-5 div.sk-toggleable__content {max-height: 0;max-width: 0;overflow: hidden;text-align: left;background-color: #f0f8ff;}#sk-container-id-5 div.sk-toggleable__content pre {margin: 0.2em;color: black;border-radius: 0.25em;background-color: #f0f8ff;}#sk-container-id-5 input.sk-toggleable__control:checked~div.sk-toggleable__content {max-height: 200px;max-width: 100%;overflow: auto;}#sk-container-id-5 input.sk-toggleable__control:checked~label.sk-toggleable__label-arrow:before {content: \"▾\";}#sk-container-id-5 div.sk-estimator input.sk-toggleable__control:checked~label.sk-toggleable__label {background-color: #d4ebff;}#sk-container-id-5 div.sk-label input.sk-toggleable__control:checked~label.sk-toggleable__label {background-color: #d4ebff;}#sk-container-id-5 input.sk-hidden--visually {border: 0;clip: rect(1px 1px 1px 1px);clip: rect(1px, 1px, 1px, 1px);height: 1px;margin: -1px;overflow: hidden;padding: 0;position: absolute;width: 1px;}#sk-container-id-5 div.sk-estimator {font-family: monospace;background-color: #f0f8ff;border: 1px dotted black;border-radius: 0.25em;box-sizing: border-box;margin-bottom: 0.5em;}#sk-container-id-5 div.sk-estimator:hover {background-color: #d4ebff;}#sk-container-id-5 div.sk-parallel-item::after {content: \"\";width: 100%;border-bottom: 1px solid gray;flex-grow: 1;}#sk-container-id-5 div.sk-label:hover label.sk-toggleable__label {background-color: #d4ebff;}#sk-container-id-5 div.sk-serial::before {content: \"\";position: absolute;border-left: 1px solid gray;box-sizing: border-box;top: 0;bottom: 0;left: 50%;z-index: 0;}#sk-container-id-5 div.sk-serial {display: flex;flex-direction: column;align-items: center;background-color: white;padding-right: 0.2em;padding-left: 0.2em;position: relative;}#sk-container-id-5 div.sk-item {position: relative;z-index: 1;}#sk-container-id-5 div.sk-parallel {display: flex;align-items: stretch;justify-content: center;background-color: white;position: relative;}#sk-container-id-5 div.sk-item::before, #sk-container-id-5 div.sk-parallel-item::before {content: \"\";position: absolute;border-left: 1px solid gray;box-sizing: border-box;top: 0;bottom: 0;left: 50%;z-index: -1;}#sk-container-id-5 div.sk-parallel-item {display: flex;flex-direction: column;z-index: 1;position: relative;background-color: white;}#sk-container-id-5 div.sk-parallel-item:first-child::after {align-self: flex-end;width: 50%;}#sk-container-id-5 div.sk-parallel-item:last-child::after {align-self: flex-start;width: 50%;}#sk-container-id-5 div.sk-parallel-item:only-child::after {width: 0;}#sk-container-id-5 div.sk-dashed-wrapped {border: 1px dashed gray;margin: 0 0.4em 0.5em 0.4em;box-sizing: border-box;padding-bottom: 0.4em;background-color: white;}#sk-container-id-5 div.sk-label label {font-family: monospace;font-weight: bold;display: inline-block;line-height: 1.2em;}#sk-container-id-5 div.sk-label-container {text-align: center;}#sk-container-id-5 div.sk-container {/* jupyter's `normalize.less` sets `[hidden] { display: none; }` but bootstrap.min.css set `[hidden] { display: none !important; }` so we also need the `!important` here to be able to override the default hidden behavior on the sphinx rendered scikit-learn.org. See: https://github.com/scikit-learn/scikit-learn/issues/21755 */display: inline-block !important;position: relative;}#sk-container-id-5 div.sk-text-repr-fallback {display: none;}</style><div id=\"sk-container-id-5\" class=\"sk-top-container\"><div class=\"sk-text-repr-fallback\"><pre>LogisticRegression()</pre><b>In a Jupyter environment, please rerun this cell to show the HTML representation or trust the notebook. <br />On GitHub, the HTML representation is unable to render, please try loading this page with nbviewer.org.</b></div><div class=\"sk-container\" hidden><div class=\"sk-item\"><div class=\"sk-estimator sk-toggleable\"><input class=\"sk-toggleable__control sk-hidden--visually\" id=\"sk-estimator-id-5\" type=\"checkbox\" checked><label for=\"sk-estimator-id-5\" class=\"sk-toggleable__label sk-toggleable__label-arrow\">LogisticRegression</label><div class=\"sk-toggleable__content\"><pre>LogisticRegression()</pre></div></div></div></div></div>"
            ]
          },
          "metadata": {},
          "execution_count": 39
        }
      ]
    },
    {
      "cell_type": "markdown",
      "source": [
        "**Making Predictions**"
      ],
      "metadata": {
        "id": "vI_TiSNo--lD"
      }
    },
    {
      "cell_type": "code",
      "source": [
        "y_pred = clf.predict(X_test)\n",
        "#This code predicts the labels 'y' for the test set 'X_test' using the trained Logistic Regression classifier 'clf'."
      ],
      "metadata": {
        "id": "NnTrkJCt6izc"
      },
      "execution_count": 40,
      "outputs": []
    },
    {
      "cell_type": "markdown",
      "source": [
        "**Evaluating Model Performance**"
      ],
      "metadata": {
        "id": "CLNZvcdu_FxD"
      }
    },
    {
      "cell_type": "code",
      "source": [
        "from sklearn.metrics import accuracy_score\n",
        "#This code imports the 'accuracy_score' function from the 'sklearn.metrics' module which is used to evaluate the performance of the model.\n",
        "\n",
        "accuracy = accuracy_score(y_test, y_pred)\n",
        "#Now we are calculating the accuracy score and storing the result in 'accuracy' object.\n",
        "\n",
        "print(\"Accuracy:\", accuracy)\n",
        "#Now we are displaying the accuracy score."
      ],
      "metadata": {
        "colab": {
          "base_uri": "https://localhost:8080/"
        },
        "id": "rSMEBL8v66_U",
        "outputId": "a63e4f54-3350-43dd-924c-7934903e4a37"
      },
      "execution_count": 41,
      "outputs": [
        {
          "output_type": "stream",
          "name": "stdout",
          "text": [
            "Accuracy: 1.0\n"
          ]
        }
      ]
    },
    {
      "cell_type": "markdown",
      "source": [
        "The above result shows accuracy of 1.0 (100%) which means there are no incorrect predections and the model achived perfect accuracy on the given data."
      ],
      "metadata": {
        "id": "_57-zVG48BmU"
      }
    }
  ]
}